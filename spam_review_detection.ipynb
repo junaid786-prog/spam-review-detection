{
  "cells": [
    {
      "cell_type": "markdown",
      "metadata": {
        "id": "view-in-github",
        "colab_type": "text"
      },
      "source": [
        "<a href=\"https://colab.research.google.com/github/junaid786-prog/spam-review-detection/blob/main/spam_review_detection.ipynb\" target=\"_parent\"><img src=\"https://colab.research.google.com/assets/colab-badge.svg\" alt=\"Open In Colab\"/></a>"
      ]
    },
    {
      "cell_type": "markdown",
      "metadata": {
        "id": "cpALEf9-eXr1"
      },
      "source": [
        "# **Spam Review Detection**"
      ]
    },
    {
      "cell_type": "markdown",
      "metadata": {
        "id": "r_sf6GLie0tZ"
      },
      "source": [
        "## 1. Installing required libraries"
      ]
    },
    {
      "cell_type": "code",
      "execution_count": 51,
      "metadata": {
        "id": "_x5d9r1efBHp"
      },
      "outputs": [],
      "source": [
        "import pandas as pd\n",
        "import numpy as np\n",
        "import seaborn as sns\n",
        "import matplotlib.pyplot as plt\n",
        "from sklearn.model_selection import train_test_split\n",
        "from sklearn.feature_extraction.text import TfidfVectorizer\n",
        "from sklearn.metrics import accuracy_score"
      ]
    },
    {
      "cell_type": "markdown",
      "metadata": {
        "id": "NWpKdwAKfSU7"
      },
      "source": [
        "##2. Loading Dataset"
      ]
    },
    {
      "cell_type": "code",
      "execution_count": 52,
      "metadata": {
        "id": "uT6ioph4g_JY"
      },
      "outputs": [],
      "source": [
        "from google.colab import drive"
      ]
    },
    {
      "cell_type": "code",
      "execution_count": 53,
      "metadata": {
        "id": "SH108UDfh3Bq",
        "colab": {
          "base_uri": "https://localhost:8080/"
        },
        "outputId": "32e00490-09d9-4aac-f629-b235489d2f23"
      },
      "outputs": [
        {
          "output_type": "stream",
          "name": "stdout",
          "text": [
            "Drive already mounted at /content/drive; to attempt to forcibly remount, call drive.mount(\"/content/drive\", force_remount=True).\n"
          ]
        }
      ],
      "source": [
        "drive.mount('/content/drive')"
      ]
    },
    {
      "cell_type": "code",
      "execution_count": 54,
      "metadata": {
        "id": "QVJVCg8yioGj",
        "colab": {
          "base_uri": "https://localhost:8080/",
          "height": 237
        },
        "outputId": "02ff434c-09bf-4d7d-ea55-83d3cebabb1c"
      },
      "outputs": [
        {
          "output_type": "execute_result",
          "data": {
            "text/plain": [
              "                                             product_name product_price  \\\n",
              "count                                              205052        205052   \n",
              "unique                                                958           525   \n",
              "top     cello Pack of 18 Opalware Cello Dazzle Lush Fi...          1299   \n",
              "freq                                                 6005          9150   \n",
              "\n",
              "          Rate     Review Summary Sentiment  \n",
              "count   205052     180388  205041    205052  \n",
              "unique       8       1324   92923         3  \n",
              "top          5  wonderful    good  positive  \n",
              "freq    118765       9016   17430    166581  "
            ],
            "text/html": [
              "\n",
              "  <div id=\"df-c7d6e7d1-db5b-4362-9ac8-56ad71a24c1c\">\n",
              "    <div class=\"colab-df-container\">\n",
              "      <div>\n",
              "<style scoped>\n",
              "    .dataframe tbody tr th:only-of-type {\n",
              "        vertical-align: middle;\n",
              "    }\n",
              "\n",
              "    .dataframe tbody tr th {\n",
              "        vertical-align: top;\n",
              "    }\n",
              "\n",
              "    .dataframe thead th {\n",
              "        text-align: right;\n",
              "    }\n",
              "</style>\n",
              "<table border=\"1\" class=\"dataframe\">\n",
              "  <thead>\n",
              "    <tr style=\"text-align: right;\">\n",
              "      <th></th>\n",
              "      <th>product_name</th>\n",
              "      <th>product_price</th>\n",
              "      <th>Rate</th>\n",
              "      <th>Review</th>\n",
              "      <th>Summary</th>\n",
              "      <th>Sentiment</th>\n",
              "    </tr>\n",
              "  </thead>\n",
              "  <tbody>\n",
              "    <tr>\n",
              "      <th>count</th>\n",
              "      <td>205052</td>\n",
              "      <td>205052</td>\n",
              "      <td>205052</td>\n",
              "      <td>180388</td>\n",
              "      <td>205041</td>\n",
              "      <td>205052</td>\n",
              "    </tr>\n",
              "    <tr>\n",
              "      <th>unique</th>\n",
              "      <td>958</td>\n",
              "      <td>525</td>\n",
              "      <td>8</td>\n",
              "      <td>1324</td>\n",
              "      <td>92923</td>\n",
              "      <td>3</td>\n",
              "    </tr>\n",
              "    <tr>\n",
              "      <th>top</th>\n",
              "      <td>cello Pack of 18 Opalware Cello Dazzle Lush Fi...</td>\n",
              "      <td>1299</td>\n",
              "      <td>5</td>\n",
              "      <td>wonderful</td>\n",
              "      <td>good</td>\n",
              "      <td>positive</td>\n",
              "    </tr>\n",
              "    <tr>\n",
              "      <th>freq</th>\n",
              "      <td>6005</td>\n",
              "      <td>9150</td>\n",
              "      <td>118765</td>\n",
              "      <td>9016</td>\n",
              "      <td>17430</td>\n",
              "      <td>166581</td>\n",
              "    </tr>\n",
              "  </tbody>\n",
              "</table>\n",
              "</div>\n",
              "      <button class=\"colab-df-convert\" onclick=\"convertToInteractive('df-c7d6e7d1-db5b-4362-9ac8-56ad71a24c1c')\"\n",
              "              title=\"Convert this dataframe to an interactive table.\"\n",
              "              style=\"display:none;\">\n",
              "        \n",
              "  <svg xmlns=\"http://www.w3.org/2000/svg\" height=\"24px\"viewBox=\"0 0 24 24\"\n",
              "       width=\"24px\">\n",
              "    <path d=\"M0 0h24v24H0V0z\" fill=\"none\"/>\n",
              "    <path d=\"M18.56 5.44l.94 2.06.94-2.06 2.06-.94-2.06-.94-.94-2.06-.94 2.06-2.06.94zm-11 1L8.5 8.5l.94-2.06 2.06-.94-2.06-.94L8.5 2.5l-.94 2.06-2.06.94zm10 10l.94 2.06.94-2.06 2.06-.94-2.06-.94-.94-2.06-.94 2.06-2.06.94z\"/><path d=\"M17.41 7.96l-1.37-1.37c-.4-.4-.92-.59-1.43-.59-.52 0-1.04.2-1.43.59L10.3 9.45l-7.72 7.72c-.78.78-.78 2.05 0 2.83L4 21.41c.39.39.9.59 1.41.59.51 0 1.02-.2 1.41-.59l7.78-7.78 2.81-2.81c.8-.78.8-2.07 0-2.86zM5.41 20L4 18.59l7.72-7.72 1.47 1.35L5.41 20z\"/>\n",
              "  </svg>\n",
              "      </button>\n",
              "      \n",
              "  <style>\n",
              "    .colab-df-container {\n",
              "      display:flex;\n",
              "      flex-wrap:wrap;\n",
              "      gap: 12px;\n",
              "    }\n",
              "\n",
              "    .colab-df-convert {\n",
              "      background-color: #E8F0FE;\n",
              "      border: none;\n",
              "      border-radius: 50%;\n",
              "      cursor: pointer;\n",
              "      display: none;\n",
              "      fill: #1967D2;\n",
              "      height: 32px;\n",
              "      padding: 0 0 0 0;\n",
              "      width: 32px;\n",
              "    }\n",
              "\n",
              "    .colab-df-convert:hover {\n",
              "      background-color: #E2EBFA;\n",
              "      box-shadow: 0px 1px 2px rgba(60, 64, 67, 0.3), 0px 1px 3px 1px rgba(60, 64, 67, 0.15);\n",
              "      fill: #174EA6;\n",
              "    }\n",
              "\n",
              "    [theme=dark] .colab-df-convert {\n",
              "      background-color: #3B4455;\n",
              "      fill: #D2E3FC;\n",
              "    }\n",
              "\n",
              "    [theme=dark] .colab-df-convert:hover {\n",
              "      background-color: #434B5C;\n",
              "      box-shadow: 0px 1px 3px 1px rgba(0, 0, 0, 0.15);\n",
              "      filter: drop-shadow(0px 1px 2px rgba(0, 0, 0, 0.3));\n",
              "      fill: #FFFFFF;\n",
              "    }\n",
              "  </style>\n",
              "\n",
              "      <script>\n",
              "        const buttonEl =\n",
              "          document.querySelector('#df-c7d6e7d1-db5b-4362-9ac8-56ad71a24c1c button.colab-df-convert');\n",
              "        buttonEl.style.display =\n",
              "          google.colab.kernel.accessAllowed ? 'block' : 'none';\n",
              "\n",
              "        async function convertToInteractive(key) {\n",
              "          const element = document.querySelector('#df-c7d6e7d1-db5b-4362-9ac8-56ad71a24c1c');\n",
              "          const dataTable =\n",
              "            await google.colab.kernel.invokeFunction('convertToInteractive',\n",
              "                                                     [key], {});\n",
              "          if (!dataTable) return;\n",
              "\n",
              "          const docLinkHtml = 'Like what you see? Visit the ' +\n",
              "            '<a target=\"_blank\" href=https://colab.research.google.com/notebooks/data_table.ipynb>data table notebook</a>'\n",
              "            + ' to learn more about interactive tables.';\n",
              "          element.innerHTML = '';\n",
              "          dataTable['output_type'] = 'display_data';\n",
              "          await google.colab.output.renderOutput(dataTable, element);\n",
              "          const docLink = document.createElement('div');\n",
              "          docLink.innerHTML = docLinkHtml;\n",
              "          element.appendChild(docLink);\n",
              "        }\n",
              "      </script>\n",
              "    </div>\n",
              "  </div>\n",
              "  "
            ]
          },
          "metadata": {},
          "execution_count": 54
        }
      ],
      "source": [
        "data_path = '/content/drive/MyDrive/data/spam-reviews.csv'\n",
        "df = pd.read_csv(data_path, on_bad_lines=\"skip\")\n",
        "df.describe()"
      ]
    },
    {
      "cell_type": "markdown",
      "metadata": {
        "id": "d_TkR4_sTXRs"
      },
      "source": [
        "##3. Cleaning Data"
      ]
    },
    {
      "cell_type": "code",
      "execution_count": 55,
      "metadata": {
        "id": "JhC_GJnyjSnr",
        "colab": {
          "base_uri": "https://localhost:8080/"
        },
        "outputId": "6664a11e-7d51-47fb-e9a0-af62405cbafb"
      },
      "outputs": [
        {
          "output_type": "execute_result",
          "data": {
            "text/plain": [
              "product_name     0\n",
              "product_price    0\n",
              "Rate             0\n",
              "Review           0\n",
              "Summary          0\n",
              "Sentiment        0\n",
              "dtype: int64"
            ]
          },
          "metadata": {},
          "execution_count": 55
        }
      ],
      "source": [
        "description = df.describe()\n",
        "# df.info()\n",
        "# converting int columns like product_price and rating from datatype obj to int and then removing non-numeric values\n",
        "\n",
        "df['product_price'] = pd.to_numeric(df['product_price'], errors='coerce')\n",
        "df['Rate'] = pd.to_numeric(df['Rate'], errors='coerce')\n",
        "\n",
        "\n",
        "# handling null values\n",
        "null_rows_sum = df.isnull().sum()\n",
        "null_rows = df[df['Review'].isnull()]\n",
        "\n",
        "'''\n",
        "As all other columns except reviews are not null. Dataset contains 205052 rows and review column is in text\n",
        "also have important so we can drop it\n",
        "Same for column Summary and other\n",
        "'''\n",
        "\n",
        "df.dropna(subset=['Review', 'Summary', 'Rate', 'product_price'], inplace=True)\n",
        "df.isnull().sum()"
      ]
    },
    {
      "cell_type": "markdown",
      "metadata": {
        "id": "Hew9tNRPSiG7"
      },
      "source": [
        "##4. Analyzing & Visualizing Data"
      ]
    },
    {
      "cell_type": "markdown",
      "metadata": {
        "id": "4MIceydrgxC_"
      },
      "source": [
        "There are two main types of columns here. Product prices and Rates are numerical values and others are strings\n",
        "So for numerical we are going to plot histograph\n",
        "And for string"
      ]
    },
    {
      "cell_type": "code",
      "execution_count": 56,
      "metadata": {
        "id": "MUsRjLEbhSjx",
        "colab": {
          "base_uri": "https://localhost:8080/",
          "height": 611
        },
        "outputId": "02a1dbd0-5e1c-40f1-986a-2429b3ed79ba"
      },
      "outputs": [
        {
          "output_type": "display_data",
          "data": {
            "text/plain": [
              "<Figure size 1000x600 with 1 Axes>"
            ],
            "image/png": "[encoded data removed]"
          },
          "metadata": {}
        }
      ],
      "source": [
        "# For target variable sentiment\n",
        "label_counts = df['Sentiment'].value_counts()\n",
        "\n",
        "# Plot the bar chart\n",
        "plt.figure(figsize=(10, 6))\n",
        "label_counts.plot(kind='bar')\n",
        "plt.title('Distribution of target label (Sentiment)')\n",
        "plt.xlabel('Sentiment')\n",
        "plt.ylabel('Frequency')\n",
        "plt.show()"
      ]
    },
    {
      "cell_type": "code",
      "execution_count": 57,
      "metadata": {
        "id": "P7j3EYwZgk1f",
        "colab": {
          "base_uri": "https://localhost:8080/",
          "height": 607
        },
        "outputId": "a115ee22-271c-4da3-c648-429b7f986825"
      },
      "outputs": [
        {
          "output_type": "display_data",
          "data": {
            "text/plain": [
              "<Figure size 1000x600 with 2 Axes>"
            ],
            "image/png": "[encoded data removed]"
          },
          "metadata": {}
        }
      ],
      "source": [
        "# Plot a histogram of numerical columns\n",
        "df.hist(figsize=(10, 6))\n",
        "plt.tight_layout()\n",
        "plt.show()"
      ]
    },
    {
      "cell_type": "code",
      "execution_count": 58,
      "metadata": {
        "id": "NDbgvB_8e0v3",
        "colab": {
          "base_uri": "https://localhost:8080/",
          "height": 599
        },
        "outputId": "76dd5f9b-082e-4ccd-cb76-8a897ec650bc"
      },
      "outputs": [
        {
          "output_type": "stream",
          "name": "stderr",
          "text": [
            "<ipython-input-58-8cebe8d282fa>:2: FutureWarning: The default value of numeric_only in DataFrame.corr is deprecated. In a future version, it will default to False. Select only valid columns or specify the value of numeric_only to silence this warning.\n",
            "  correlation_matrix = df.corr()\n"
          ]
        },
        {
          "output_type": "display_data",
          "data": {
            "text/plain": [
              "<Figure size 1000x600 with 2 Axes>"
            ],
            "image/png": "[encoded data removed]"
          },
          "metadata": {}
        }
      ],
      "source": [
        "# Create a correlation matrix\n",
        "correlation_matrix = df.corr()\n",
        "\n",
        "# Plot a heatmap of the correlation matrix\n",
        "plt.figure(figsize=(10, 6))\n",
        "sns.heatmap(correlation_matrix, annot=True, cmap='coolwarm')\n",
        "plt.title('Correlation Heatmap')\n",
        "plt.show()"
      ]
    },
    {
      "cell_type": "code",
      "execution_count": 59,
      "metadata": {
        "id": "AevO5NEOpqez"
      },
      "outputs": [],
      "source": [
        "# nltk.download('punkt')\n",
        "\n",
        "# # Tokenize the 'review' column\n",
        "# df['review_tokens'] = df['Review'].apply(nltk.word_tokenize)\n",
        "\n",
        "# # Tokenize the 'summary' column\n",
        "# df['summary_tokens'] = df['Summary'].apply(nltk.word_tokenize)\n",
        "\n",
        "# # Print the tokenized columns\n",
        "# print(df[['review_tokens', 'summary_tokens']])"
      ]
    },
    {
      "cell_type": "markdown",
      "metadata": {
        "id": "NY_lhPmumfbn"
      },
      "source": [
        "## 5. Tokenization of text columns\n",
        "As in reviews and summary like columns there are text values so for further working we have to convert into numerical values (tokenization)"
      ]
    },
    {
      "cell_type": "code",
      "execution_count": 60,
      "metadata": {
        "id": "VHyovIidnJj2"
      },
      "outputs": [],
      "source": [
        "# converting target categorized variable to number 1 for positive, neutral and 0 for negative\n",
        "df['Sentiment'] = df['Sentiment'].replace({'positive': 1, 'neutral': 1, 'negative': 0})"
      ]
    },
    {
      "cell_type": "markdown",
      "metadata": {
        "id": "ju_q7cRdsP0e"
      },
      "source": [
        "##6.Splitting dataset"
      ]
    },
    {
      "cell_type": "code",
      "execution_count": 61,
      "metadata": {
        "id": "cHKP0agasWTg"
      },
      "outputs": [],
      "source": [
        "df_to_pass = df[['Summary', 'product_price', 'Rate']]\n",
        "\n",
        "X_train, X_test, Y_train, Y_test = train_test_split(df_to_pass, df[\"Sentiment\"], test_size = 0.2, random_state=42)"
      ]
    },
    {
      "cell_type": "markdown",
      "metadata": {
        "id": "wEBs-6KmwCo8"
      },
      "source": [
        "###converting into numerics"
      ]
    },
    {
      "cell_type": "code",
      "execution_count": 62,
      "metadata": {
        "id": "oaau9PYHwqra",
        "colab": {
          "base_uri": "https://localhost:8080/"
        },
        "outputId": "7deeebdd-de33-49f3-d082-9774eaa58c51"
      },
      "outputs": [
        {
          "output_type": "stream",
          "name": "stdout",
          "text": [
            "Shape of X_train_tfidf: (144300, 39990)\n",
            "Shape of X_test_tfidf: (36076, 39990)\n",
            "Example values of X_train_tfidf:\n"
          ]
        }
      ],
      "source": [
        "# Considering only Summary as totaly sentiment is based on this column\n",
        "text_data_train = X_train['Summary']\n",
        "text_data_test = X_test['Summary']\n",
        "\n",
        "\n",
        "# Convert text data to numerical features using TF-IDF\n",
        "vectorizer = TfidfVectorizer()\n",
        "X_train_tfidf = vectorizer.fit_transform(text_data_train)\n",
        "X_test_tfidf = vectorizer.transform(text_data_test)\n",
        "\n",
        "# Print the shape and example values of X_train_tfidf\n",
        "print(\"Shape of X_train_tfidf:\", X_train_tfidf.shape)\n",
        "print(\"Shape of X_test_tfidf:\", X_test_tfidf.shape)\n",
        "print(\"Example values of X_train_tfidf:\")\n",
        "# print(X_train_tfidf.toarray()[:3])  # Print the TF-IDF values of the first three samples\n",
        "\n",
        "# print(\"Vocabulary size:\", len(vectorizer.get_feature_names_out()))\n",
        "# vectorizer.get_feature_names_out()"
      ]
    },
    {
      "cell_type": "markdown",
      "metadata": {
        "id": "hpQnDovV0uN6"
      },
      "source": [
        "## 7. Training & Testing Models\n",
        "##### Four Steps We will be taking in each algorithm\n",
        "###### 1. Importing that Classifier and initiaizing it\n",
        "###### 2. Training model on above selected train data\n",
        "###### 3. Making Predictions using above selected test data\n",
        "###### 4. At end we will calculate accuracy of each model and at last will see whose accuracy is best"
      ]
    },
    {
      "cell_type": "markdown",
      "metadata": {
        "id": "0wwWF0BJ00MT"
      },
      "source": [
        "### 1. Logistic Regression"
      ]
    },
    {
      "cell_type": "code",
      "execution_count": 63,
      "metadata": {
        "colab": {
          "base_uri": "https://localhost:8080/"
        },
        "id": "TXyJa2-a06P-",
        "outputId": "4fd82e70-ce75-4015-dba4-bb5952b193d4"
      },
      "outputs": [
        {
          "output_type": "stream",
          "name": "stdout",
          "text": [
            "Accuracy: 0.9540969065306575\n"
          ]
        }
      ],
      "source": [
        "from sklearn.linear_model import LogisticRegression\n",
        "\n",
        "# Create an instance of the Logistic Regression classifier\n",
        "L_classifier = LogisticRegression(max_iter=100000000)\n",
        "\n",
        "# Fit the model to the training data\n",
        "L_classifier.fit(X_train_tfidf, Y_train)\n",
        "\n",
        "# Making predictions on test data\n",
        "predictions = L_classifier.predict(X_test_tfidf)\n",
        "\n",
        "# Accuracy Score\n",
        "a = accuracy_score(Y_test, predictions)\n",
        "print(\"Accuracy:\", a)"
      ]
    },
    {
      "cell_type": "markdown",
      "metadata": {
        "id": "Q41XydHTAnPC"
      },
      "source": [
        "###2. Support Vector Machine"
      ]
    },
    {
      "cell_type": "code",
      "execution_count": 15,
      "metadata": {
        "id": "xmDiA74iAsWI"
      },
      "outputs": [],
      "source": [
        "#from sklearn.svm import SVC\n",
        "#svc_classifier = SVC()\n",
        "#svc_classifier.fit(X_train_tfidf, Y_train)\n",
        "#predictions = svc_classifier.predict(X_test_tfidf)\n",
        "\n",
        "## Print the predictions\n",
        "#print(\"Predictions:\", predictions)"
      ]
    },
    {
      "cell_type": "markdown",
      "source": [
        "###3. Naive Buyes"
      ],
      "metadata": {
        "id": "0nJhnMsEImUT"
      }
    },
    {
      "cell_type": "code",
      "source": [
        "from sklearn.naive_bayes import MultinomialNB\n",
        "\n",
        "# Create an instance of the Multinomial Naive Bayes classifier\n",
        "naive_classifier = MultinomialNB()\n",
        "\n",
        "# Fit the model to the training data\n",
        "naive_classifier.fit(X_train_tfidf, Y_train)\n",
        "\n",
        "# Making predictions on test data\n",
        "predictions = naive_classifier.predict(X_test_tfidf)\n",
        "\n",
        "# Calculating Accuracy Score\n",
        "naive_bayes_accuracy = accuracy_score(Y_test, predictions)\n",
        "\n",
        "print(\"Accuracy:\", naive_bayes_accuracy)"
      ],
      "metadata": {
        "colab": {
          "base_uri": "https://localhost:8080/"
        },
        "id": "3ugB9P4aIjRx",
        "outputId": "fc75bcd5-950d-4c98-ba73-f8bf89805138"
      },
      "execution_count": 16,
      "outputs": [
        {
          "output_type": "stream",
          "name": "stdout",
          "text": [
            "Accuracy: 0.9048120634216654\n"
          ]
        }
      ]
    },
    {
      "cell_type": "markdown",
      "source": [
        "###4. K Nearest Neighbours (KNN)"
      ],
      "metadata": {
        "id": "DjqfCWITKRUU"
      }
    },
    {
      "cell_type": "code",
      "source": [
        "from sklearn.neighbors import KNeighborsClassifier\n",
        "\n",
        "# Create an instance of the KNN classifier\n",
        "knn_classifier = KNeighborsClassifier(n_neighbors=5)\n",
        "\n",
        "# Fit the model to the training data\n",
        "knn_classifier.fit(X_train_tfidf, Y_train)\n",
        "\n",
        "# Making predictions on test data\n",
        "predictions = knn_classifier.predict(X_test_tfidf)\n",
        "\n",
        "# Calculating Accuracy Score\n",
        "knn_accuracy = accuracy_score(Y_test, predictions)\n",
        "\n",
        "print(\"Accuracy:\", knn_accuracy)"
      ],
      "metadata": {
        "colab": {
          "base_uri": "https://localhost:8080/"
        },
        "id": "VYrptmxNKQrU",
        "outputId": "9ef85892-1e01-42bc-808d-dcd2e4ba1d2c"
      },
      "execution_count": 19,
      "outputs": [
        {
          "output_type": "stream",
          "name": "stdout",
          "text": [
            "Accuracy: 0.9229958975496175\n"
          ]
        }
      ]
    },
    {
      "cell_type": "markdown",
      "source": [
        "### 5. Decision Tree"
      ],
      "metadata": {
        "id": "1J4wBTJ3N4DQ"
      }
    },
    {
      "cell_type": "code",
      "source": [
        "from sklearn.tree import DecisionTreeClassifier\n",
        "\n",
        "# Create an instance of the Decision Tree classifier\n",
        "decision_classifier = DecisionTreeClassifier()\n",
        "\n",
        "# Fit the model to the training data\n",
        "decision_classifier.fit(X_train_tfidf, Y_train)\n",
        "\n",
        "# Making predictions on test data\n",
        "predictions = decision_classifier.predict(X_test_tfidf)\n",
        "\n",
        "# Calculating Accuracy Score\n",
        "decision_tree_accuracy = accuracy_score(Y_test, predictions)\n",
        "\n",
        "print(\"Accuracy:\", decision_tree_accuracy)"
      ],
      "metadata": {
        "colab": {
          "base_uri": "https://localhost:8080/"
        },
        "id": "03mnBq9LN7nU",
        "outputId": "3f56aa01-ecc4-449e-dc33-dc0122241b42"
      },
      "execution_count": 50,
      "outputs": [
        {
          "output_type": "stream",
          "name": "stdout",
          "text": [
            "Accuracy: 0.9514635768932254\n"
          ]
        }
      ]
    },
    {
      "cell_type": "markdown",
      "metadata": {
        "id": "1T1b8YHG8Okq"
      },
      "source": [
        "## 8. Predicting Fake Or Not"
      ]
    },
    {
      "cell_type": "code",
      "execution_count": 64,
      "metadata": {
        "id": "ibuWlcHs-xSd"
      },
      "outputs": [],
      "source": [
        "def make_prediction(user_input, classifier):\n",
        "  # Convert the sample text data to numerical features using TF-ID\n",
        "  sample_tfidf = vectorizer.transform([user_input])\n",
        "  # Make a prediction on the sample\n",
        "  prediction = classifier.predict(sample_tfidf)\n",
        "  # Print the predicted label\n",
        "  if (prediction[0] == 0):\n",
        "    print(\"this review is marked as negative\")\n",
        "  else:\n",
        "    print(\"this review is marked as positive\")"
      ]
    },
    {
      "cell_type": "code",
      "execution_count": 65,
      "metadata": {
        "id": "ngI0Y3tlBMKo",
        "colab": {
          "base_uri": "https://localhost:8080/"
        },
        "outputId": "2ee44a98-7f3a-40be-c20e-3e4d2d80b9a9"
      },
      "outputs": [
        {
          "output_type": "stream",
          "name": "stdout",
          "text": [
            "this review is marked as negative\n"
          ]
        }
      ],
      "source": [
        "make_prediction(\"very bad product\", L_classifier)"
      ]
    },
    {
      "cell_type": "code",
      "source": [
        "def better_prediction (review):\n",
        "  if naive_bayes_accuracy > knn_accuracy:\n",
        "    if naive_bayes_accuracy >= decision_tree_accuracy:\n",
        "      make_prediction(review, naive_classifier)\n",
        "    elif naive_bayes_accuracy < decision_tree_accuracy:\n",
        "      make_prediction(review, decision_tree_accuracy)\n",
        "  elif naive_bayes_accuracy < knn_accuracy:\n",
        "    if knn_accuracy >= decision_tree_accuracy:\n",
        "      make_prediction(review, knn_accuracy)\n",
        "    elif knn_accuracy < decision_tree_accuracy:\n",
        "      make_prediction(review, decision_classifier)\n",
        "better_prediction(\"pakistan is about to destroy due to economical crisis\")"
      ],
      "metadata": {
        "id": "FcLsYqjmSWVU",
        "colab": {
          "base_uri": "https://localhost:8080/"
        },
        "outputId": "c22348ce-71f6-4337-bb04-8f194bc4d0d0"
      },
      "execution_count": 35,
      "outputs": [
        {
          "output_type": "stream",
          "name": "stdout",
          "text": [
            "this review is marked as positive\n"
          ]
        }
      ]
    }
  ],
  "metadata": {
    "colab": {
      "provenance": [],
      "toc_visible": true,
      "authorship_tag": "ABX9TyMRZz0ekSKBDVbnh85MfUzC",
      "include_colab_link": true
    },
    "kernelspec": {
      "display_name": "Python 3",
      "name": "python3"
    },
    "language_info": {
      "name": "python"
    }
  },
  "nbformat": 4,
  "nbformat_minor": 0
}